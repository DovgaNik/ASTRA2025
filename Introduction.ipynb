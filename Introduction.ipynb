{
 "cells": [
  {
   "metadata": {},
   "cell_type": "markdown",
   "source": [
    "Practical 1: Introduction into writing ML applications\n",
    "==="
   ],
   "id": "373c78b051a7314b"
  },
  {
   "metadata": {},
   "cell_type": "code",
   "source": [
    "import numpy as np\n",
    "import pandas as pd\n",
    "\n",
    "# Data acquired through lib mne\n",
    "import mne"
   ],
   "id": "290eb3ba930bdedf",
   "outputs": [],
   "execution_count": null
  },
  {
   "metadata": {},
   "cell_type": "markdown",
   "source": "First the data must be downloaded on disk using the following function.",
   "id": "4beaa1692ed38f6b"
  },
  {
   "metadata": {},
   "cell_type": "code",
   "source": "mne.datasets.eegbci.load_data(subject=1, runs=[1, 2])",
   "id": "2ac151572810231c",
   "outputs": [],
   "execution_count": null
  },
  {
   "metadata": {},
   "cell_type": "markdown",
   "source": "Then we can load it using the following function to be further used.",
   "id": "861ea2b89366617e"
  },
  {
   "metadata": {
    "ExecuteTime": {
     "end_time": "2025-07-08T12:37:52.394313Z",
     "start_time": "2025-07-08T12:37:52.256164Z"
    }
   },
   "cell_type": "code",
   "source": [
    "raw = mne.io.read_raw_edf(mne.datasets.eegbci.load_data(subject=1, runs=[1])[0], preload=True)\n",
    "raw.set_montage()\n",
    "raw.plot(title='Raw eeg data, subj 1, run 1')"
   ],
   "id": "3ca6f23ceddab018",
   "outputs": [
    {
     "name": "stdout",
     "output_type": "stream",
     "text": [
      "Extracting EDF parameters from /home/nikita/mne_data/MNE-eegbci-data/files/eegmmidb/1.0.0/S001/S001R01.edf...\n",
      "EDF file detected\n",
      "Setting channel info structure...\n",
      "Creating raw.info structure...\n",
      "Reading 0 ... 9759  =      0.000 ...    60.994 secs...\n"
     ]
    },
    {
     "name": "stderr",
     "output_type": "stream",
     "text": [
      "/tmp/ipykernel_223390/3043739485.py:1: FutureWarning: The ``subject`` parameter is deprecated and will be removed in version 1.9. Use the ``subjects`` parameter (note the `s`) to suppress this warning.\n",
      "  raw = mne.io.read_raw_edf(mne.datasets.eegbci.load_data(subject=1, runs=[1])[0], preload=True)\n"
     ]
    },
    {
     "ename": "TypeError",
     "evalue": "set_montage() missing 1 required positional argument: 'montage'",
     "output_type": "error",
     "traceback": [
      "\u001B[31m---------------------------------------------------------------------------\u001B[39m",
      "\u001B[31mTypeError\u001B[39m                                 Traceback (most recent call last)",
      "\u001B[36mCell\u001B[39m\u001B[36m \u001B[39m\u001B[32mIn[19]\u001B[39m\u001B[32m, line 2\u001B[39m\n\u001B[32m      1\u001B[39m raw = mne.io.read_raw_edf(mne.datasets.eegbci.load_data(subject=\u001B[32m1\u001B[39m, runs=[\u001B[32m1\u001B[39m])[\u001B[32m0\u001B[39m], preload=\u001B[38;5;28;01mTrue\u001B[39;00m)\n\u001B[32m----> \u001B[39m\u001B[32m2\u001B[39m \u001B[43mraw\u001B[49m\u001B[43m.\u001B[49m\u001B[43mset_montage\u001B[49m\u001B[43m(\u001B[49m\u001B[43m)\u001B[49m\n\u001B[32m      3\u001B[39m raw.plot(title=\u001B[33m'\u001B[39m\u001B[33mRaw eeg data, subj 1, run 1\u001B[39m\u001B[33m'\u001B[39m)\n",
      "\u001B[31mTypeError\u001B[39m: set_montage() missing 1 required positional argument: 'montage'"
     ]
    }
   ],
   "execution_count": 19
  },
  {
   "metadata": {},
   "cell_type": "markdown",
   "source": "Filtering out electricity interference. Normally in EU it is 50 Hz",
   "id": "450a13070b152fa8"
  },
  {
   "metadata": {},
   "cell_type": "code",
   "source": [
    "raw.notch_filter(freqs=50)\n",
    "raw.plot(title=\"Filtered electricity EEG data, subj 1, run 1\")"
   ],
   "id": "7754b9d144626f19",
   "outputs": [],
   "execution_count": null
  },
  {
   "metadata": {
    "tags": []
   },
   "cell_type": "code",
   "source": [
    "raw.filter(1, 40, fir_design='firwin')\n",
    "raw.plot(title='Filtered EEG data, subj 1, run 1')"
   ],
   "id": "eb7d52b497ac6674",
   "outputs": [],
   "execution_count": null
  },
  {
   "metadata": {},
   "cell_type": "markdown",
   "source": "After filtering out the noises from the signal it is possible to start identifying separate components, for example eye blinks.j",
   "id": "382b545d65e8a06d"
  },
  {
   "metadata": {},
   "cell_type": "code",
   "source": [
    "ica = mne.preprocessing.ICA(n_components=20, random_state=97)\n",
    "ica.fit(raw)\n",
    "ica.plot_components()"
   ],
   "id": "de6e632234ae9da4",
   "outputs": [],
   "execution_count": null
  },
  {
   "metadata": {},
   "cell_type": "code",
   "source": "",
   "id": "307e10d00d9fec15",
   "outputs": [],
   "execution_count": null
  }
 ],
 "metadata": {
  "kernelspec": {
   "display_name": "Python 3",
   "language": "python",
   "name": "python3"
  },
  "language_info": {
   "codemirror_mode": {
    "name": "ipython",
    "version": 2
   },
   "file_extension": ".py",
   "mimetype": "text/x-python",
   "name": "python",
   "nbconvert_exporter": "python",
   "pygments_lexer": "ipython2",
   "version": "2.7.6"
  }
 },
 "nbformat": 4,
 "nbformat_minor": 5
}
